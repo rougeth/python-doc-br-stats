{
 "cells": [
  {
   "cell_type": "markdown",
   "id": "85a2fad5",
   "metadata": {},
   "source": [
    "# Documentação do Python em Português: 2 anos depois\n",
    "\n",
    "O primeiro texto que escrevi no blog sobre o projeto de tradução da documentação do Python para português completou 2 anos. Na época, 17% da documentação tinha sido traduzida, tínhamos apenas 30 pessoas em um grupo no Telegram e nenhum processo automatizado para publicação das traduções. Hoje, após mais de 2 anos e muito progresso, está na hora de uma atualiação sobre o projeto.\n",
    "\n",
    "Leia o texto na íntegra [aqui](/blog/python-ptbr-cenario-atual/)).\n",
    "\n",
    "## A comunidade\n",
    "\n",
    "Qualquer avanço em um projeto tão ambicioso como, traduzir 55,6 mil frases com mais de 1,16 milhão de palavras, não seria possível sem uma comunidade de apoio. Dos pouco mais de 30 pessoas, o grupo aumentou \n",
    "\n",
    "Um dos pontos que não mudou desde o primeiro texto, é a sazionalidade na participação das pessoas no projeto. Em períodos próximos a eventos, como a Python Brasil, ou quando alguém da comunidade vai palestrar sobre o projeto em algum evento, há uma maior interação no grupo do Telegram e mais traduções feitas no Transifex. Com o passar do tempo porém, o engajamento diminui.\n",
    "\n",
    "\n",
    "## As ferramentas\n",
    "\n",
    "## Os números\n",
    "\n"
   ]
  },
  {
   "cell_type": "code",
   "execution_count": 33,
   "id": "f1c0b11a",
   "metadata": {},
   "outputs": [
    {
     "name": "stdout",
     "output_type": "stream",
     "text": [
      "{'translated': 22584, 'priorities_not_translated': 19247, 'not_translated': 13514}\n",
      "{'translated': 9037, 'priorities_not_translated': 26418, 'not_translated': 13580}\n"
     ]
    }
   ],
   "source": [
    "import json\n",
    "\n",
    "import matplotlib.pyplot as plt\n",
    "import numpy as np\n",
    "\n",
    "import helper\n",
    "\n",
    "def is_resource_priority(resource):\n",
    "    for namespace in helper.REQUIRED_RESOURCES:\n",
    "        if namespace in resource:\n",
    "            return True\n",
    "    return False\n",
    "\n",
    "\n",
    "def translated(data):\n",
    "    priorities_not_translated = sum(\n",
    "        stats['untranslated_entities']\n",
    "        for resource, stats in data.items()\n",
    "        if is_resource_priority(resource)\n",
    "    )\n",
    "    \n",
    "    not_translated = sum(stats['untranslated_entities'] for stats in data.values())\n",
    "    not_translated = not_translated - priorities_not_translated\n",
    "    \n",
    "    translated = sum(stats['translated_entities'] for stats in data.values())\n",
    "\n",
    "    return {\n",
    "        \"translated\": translated,\n",
    "        \"priorities_not_translated\": priorities_not_translated,\n",
    "        \"not_translated\": not_translated,\n",
    "    }\n",
    "\n",
    "_2021 = json.load(open(\"2021-05-09.json\"))\n",
    "_2019 = json.load(open(\"2019-06-20.json\"))\n",
    "\n",
    "print(translated(_2021))\n",
    "print(translated(_2019))"
   ]
  },
  {
   "cell_type": "code",
   "execution_count": 38,
   "id": "49df1079",
   "metadata": {},
   "outputs": [
    {
     "data": {
      "image/png": "[encoded data removed]",
      "text/plain": [
       "<Figure size 432x288 with 1 Axes>"
      ]
     },
     "metadata": {
      "needs_background": "light"
     },
     "output_type": "display_data"
    }
   ],
   "source": [
    "fig, ax = plt.subplots()\n",
    "\n",
    "data_2021 = translated(_2021)\n",
    "data_2019 = translated(_2019)\n",
    "\n",
    "ax.bar(range(len(data_2021)), data_2021.values(), label='2021')\n",
    "ax.bar(range(len(data_2019)), data_2019.values(), label='2019')\n",
    "\n",
    "plt.xticks(range(len(data_2021)), list(data_2021.keys()))\n",
    "plt.show()"
   ]
  },
  {
   "cell_type": "markdown",
   "id": "10385085",
   "metadata": {},
   "source": [
    "## Próximos passos"
   ]
  },
  {
   "cell_type": "code",
   "execution_count": null,
   "id": "b1604b35",
   "metadata": {},
   "outputs": [],
   "source": [
    " "
   ]
  }
 ],
 "metadata": {
  "kernelspec": {
   "display_name": "Python 3",
   "language": "python",
   "name": "python3"
  },
  "language_info": {
   "codemirror_mode": {
    "name": "ipython",
    "version": 3
   },
   "file_extension": ".py",
   "mimetype": "text/x-python",
   "name": "python",
   "nbconvert_exporter": "python",
   "pygments_lexer": "ipython3",
   "version": "3.9.5"
  }
 },
 "nbformat": 4,
 "nbformat_minor": 5
}
